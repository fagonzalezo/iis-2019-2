{
 "cells": [
  {
   "cell_type": "markdown",
   "metadata": {},
   "source": [
    "# Adversarial Search in Games\n",
    "\n",
    "The following code is based on the code provided by the book [Artificial Intelligence: A Modern Approach](http://aima.cs.berkeley.edu/) in http://aima.cs.berkeley.edu/python/readme.html."
   ]
  },
  {
   "cell_type": "markdown",
   "metadata": {},
   "source": [
    "### Abstract class for modeling a game"
   ]
  },
  {
   "cell_type": "code",
   "execution_count": 86,
   "metadata": {
    "collapsed": true
   },
   "outputs": [],
   "source": [
    "class Game:\n",
    "    \"\"\"A game is similar to a problem, but it has a utility for each\n",
    "    state and a terminal test instead of a path cost and a goal\n",
    "    test. To create a game, subclass this class and implement\n",
    "    legal_moves, make_move, utility, and terminal_test. You may\n",
    "    override display and successors or you can inherit their default\n",
    "    methods. You will also need to set the .initial attribute to the\n",
    "    initial state; this can be done in the constructor.\"\"\"\n",
    "\n",
    "    def legal_moves(self, state):\n",
    "        \"Return a list of the allowable moves at this point.\"\n",
    "        abstract\n",
    "\n",
    "    def make_move(self, move, state):\n",
    "        \"Return the state that results from making a move from a state.\"\n",
    "        abstract\n",
    "\n",
    "    def utility(self, state, player):\n",
    "        \"Return the value of this final state to player.\"\n",
    "        abstract\n",
    "\n",
    "    def terminal_test(self, state):\n",
    "        \"Return True if this is a final state for the game.\"\n",
    "        return not self.legal_moves(state)\n",
    "\n",
    "    def to_move(self, state):\n",
    "        \"Return the player whose move it is in this state.\"\n",
    "        return state.to_move\n",
    "\n",
    "    def display(self, state):\n",
    "        \"Print or otherwise display the state.\"\n",
    "        print state\n",
    "\n",
    "    def successors(self, state):\n",
    "        \"Return a list of legal (move, state) pairs.\"\n",
    "        return [(move, self.make_move(move, state))\n",
    "                for move in self.legal_moves(state)]\n",
    "\n",
    "    def __repr__(self):\n",
    "        return '<%s>' % self.__class__.__name__"
   ]
  },
  {
   "cell_type": "markdown",
   "metadata": {},
   "source": [
    "### Minimax with alpha-beta pruning implementation\n",
    "\n",
    "Some auxiliary functions"
   ]
  },
  {
   "cell_type": "code",
   "execution_count": 87,
   "metadata": {
    "collapsed": true
   },
   "outputs": [],
   "source": [
    "def argmin(seq, fn):\n",
    "    \"\"\"Return an element with lowest fn(seq[i]) score; tie goes to first one.\n",
    "    >>> argmin(['one', 'to', 'three'], len)\n",
    "    'to'\n",
    "    \"\"\"\n",
    "    best = seq[0]; best_score = fn(best)\n",
    "    for x in seq:\n",
    "        x_score = fn(x)\n",
    "        if x_score < best_score:\n",
    "            best, best_score = x, x_score\n",
    "    return best\n",
    "\n",
    "def argmax(seq, fn):\n",
    "    \"\"\"Return an element with highest fn(seq[i]) score; tie goes to first one.\n",
    "    >>> argmax(['one', 'to', 'three'], len)\n",
    "    'three'\n",
    "    \"\"\"\n",
    "    return argmin(seq, lambda x: -fn(x))"
   ]
  },
  {
   "cell_type": "markdown",
   "metadata": {},
   "source": [
    "Minimax search function"
   ]
  },
  {
   "cell_type": "code",
   "execution_count": 98,
   "metadata": {
    "collapsed": true
   },
   "outputs": [],
   "source": [
    "def alphabeta_search(state, game, d=float('inf'), cutoff_test=None, eval_fn=None):\n",
    "    \"\"\"Search game to determine best action; use alpha-beta pruning.\n",
    "    This version cuts off search and uses an evaluation function.\"\"\"\n",
    "\n",
    "    player = game.to_move(state)\n",
    "\n",
    "    def max_value(state, alpha, beta, depth):\n",
    "        if cutoff_test(state, depth):\n",
    "            return eval_fn(state, player)\n",
    "        v = -float('inf')\n",
    "        for (a, s) in game.successors(state):\n",
    "            v = max(v, min_value(s, alpha, beta, depth+1))\n",
    "            if v >= beta:\n",
    "                return v\n",
    "            alpha = max(alpha, v)\n",
    "        return v\n",
    "\n",
    "    def min_value(state, alpha, beta, depth):\n",
    "        if cutoff_test(state, depth):\n",
    "            return eval_fn(state, player)\n",
    "        v = float('inf')\n",
    "        for (a, s) in game.successors(state):\n",
    "            v = min(v, max_value(s, alpha, beta, depth+1))\n",
    "            if v <= alpha:\n",
    "                return v\n",
    "            beta = min(beta, v)\n",
    "        return v\n",
    "\n",
    "    # Body of alphabeta_search starts here:\n",
    "    # The default test cuts off at depth d or at a terminal state\n",
    "    cutoff_test = (cutoff_test or\n",
    "                   (lambda state,depth: depth>d or game.terminal_test(state)))\n",
    "    eval_fn = eval_fn or (lambda state, player: game.utility(state, player))\n",
    "    action, state = argmax(game.successors(state),\n",
    "                           lambda ((a, s)): min_value(s, -float('inf'), float('inf'), 0))\n",
    "    return action\n"
   ]
  },
  {
   "cell_type": "markdown",
   "metadata": {},
   "source": [
    "### Generic playing agents\n",
    "\n",
    "Auxiliary functions"
   ]
  },
  {
   "cell_type": "code",
   "execution_count": 99,
   "metadata": {
    "collapsed": true
   },
   "outputs": [],
   "source": [
    "def num_or_str(x):\n",
    "    \"\"\"The argument is a string; convert to a number if possible, or strip it.\n",
    "    >>> num_or_str('42')\n",
    "    42\n",
    "    >>> num_or_str(' 42x ')\n",
    "    '42x'\n",
    "    \"\"\"\n",
    "    if isnumber(x): return x\n",
    "    try:\n",
    "        return int(x)\n",
    "    except ValueError:\n",
    "        try:\n",
    "            return float(x)\n",
    "        except ValueError:\n",
    "                return str(x).strip()\n",
    "\n",
    "def isnumber(x):\n",
    "    \"Is x a number? We say it is if it has a __int__ method.\"\n",
    "    return hasattr(x, '__int__')"
   ]
  },
  {
   "cell_type": "markdown",
   "metadata": {},
   "source": [
    "A player that makes a query for each move"
   ]
  },
  {
   "cell_type": "code",
   "execution_count": 100,
   "metadata": {
    "collapsed": true
   },
   "outputs": [],
   "source": [
    "def query_player(game, state):\n",
    "    \"Make a move by querying standard input.\"\n",
    "    game.display(state)\n",
    "    return num_or_str(raw_input('Your move? '))"
   ]
  },
  {
   "cell_type": "markdown",
   "metadata": {},
   "source": [
    "A player that chooses a move at random"
   ]
  },
  {
   "cell_type": "code",
   "execution_count": 101,
   "metadata": {
    "collapsed": true
   },
   "outputs": [],
   "source": [
    "import random\n",
    "\n",
    "def random_player(game, state):\n",
    "    \"A player that chooses a legal move at random.\"\n",
    "    return random.choice(game.legal_moves(state))"
   ]
  },
  {
   "cell_type": "markdown",
   "metadata": {},
   "source": [
    "A player that uses minimimax alpha-beta search"
   ]
  },
  {
   "cell_type": "code",
   "execution_count": 102,
   "metadata": {
    "collapsed": true
   },
   "outputs": [],
   "source": [
    "def alphabeta_player(game, state):\n",
    "    return alphabeta_search(state, game)"
   ]
  },
  {
   "cell_type": "markdown",
   "metadata": {},
   "source": [
    "A function that receives a list of players and call each player alternatively"
   ]
  },
  {
   "cell_type": "code",
   "execution_count": 103,
   "metadata": {
    "collapsed": false
   },
   "outputs": [],
   "source": [
    "def play_game(game, *players):\n",
    "    \"Play an n-person, move-alternating game.\"\n",
    "    state = game.initial\n",
    "    while True:\n",
    "        for player in players:\n",
    "            move = player(game, state)\n",
    "            state = game.make_move(move, state)\n",
    "            if game.terminal_test(state):\n",
    "                return game.utility(state, 0)"
   ]
  },
  {
   "cell_type": "markdown",
   "metadata": {},
   "source": [
    "### The last-stone game\n",
    "\n",
    "The game is played with a heap of stones. Each player take alternatively a number $n$ of stones ($1 \\le n \\le 3$). The player that takes the last stone wins.\n",
    "\n",
    "An auxiliary class to define light-weight objects"
   ]
  },
  {
   "cell_type": "code",
   "execution_count": 104,
   "metadata": {
    "collapsed": true
   },
   "outputs": [],
   "source": [
    "class Struct:\n",
    "    \"\"\"Create an instance with argument=value slots.\n",
    "    This is for making a lightweight object whose class doesn't matter.\"\"\"\n",
    "    def __init__(self, **entries):\n",
    "        self.__dict__.update(entries)\n",
    "\n",
    "    def __cmp__(self, other):\n",
    "        if isinstance(other, Struct):\n",
    "            return cmp(self.__dict__, other.__dict__)\n",
    "        else:\n",
    "            return cmp(self.__dict__, other)\n",
    "\n",
    "    def __repr__(self):\n",
    "        args = ['%s=%s' % (k, repr(v)) for (k, v) in vars(self).items()]\n",
    "        return 'Struct(%s)' % ', '.join(args)"
   ]
  },
  {
   "cell_type": "markdown",
   "metadata": {},
   "source": [
    "The following class models the last-stone game:"
   ]
  },
  {
   "cell_type": "code",
   "execution_count": 114,
   "metadata": {
    "collapsed": false
   },
   "outputs": [],
   "source": [
    "class LastStone(Game):\n",
    "    def __init__(self, stones):\n",
    "        self.initial = Struct(to_move=0, heap = stones)\n",
    "\n",
    "    def legal_moves(self, state):\n",
    "        \"Return a list of the allowable moves at this point.\"\n",
    "        return range(1, min(3, state.heap) + 1)\n",
    "\n",
    "    def make_move(self, move, state):\n",
    "        \"Return the state that results from making a move from a state.\"\n",
    "        return Struct(to_move = 1 - state.to_move,\n",
    "                      heap = state.heap - move)\n",
    "        \n",
    "    def utility(self, state, player):\n",
    "        \"Return the value of this final state to player.\"\n",
    "        if state.to_move == player:\n",
    "            return -1\n",
    "        else:\n",
    "            return 1\n",
    "\n",
    "    def terminal_test(self, state):\n",
    "        \"Return True if this is a final state for the game.\"\n",
    "        return not self.legal_moves(state)\n",
    "\n",
    "    def to_move(self, state):\n",
    "        \"Return the player whose move it is in this state.\"\n",
    "        return state.to_move\n",
    "\n",
    "    def display(self, state):\n",
    "        \"Print or otherwise display the state.\"\n",
    "        print state\n",
    "\n",
    "    def successors(self, state):\n",
    "        \"Return a list of legal (move, state) pairs.\"\n",
    "        return [(move, self.make_move(move, state))\n",
    "                for move in self.legal_moves(state)]"
   ]
  },
  {
   "cell_type": "markdown",
   "metadata": {},
   "source": [
    "An interactive game against the computer, can you win?"
   ]
  },
  {
   "cell_type": "code",
   "execution_count": null,
   "metadata": {
    "collapsed": false
   },
   "outputs": [
    {
     "name": "stdout",
     "output_type": "stream",
     "text": [
      "Struct(to_move=0, heap=10)\n"
     ]
    }
   ],
   "source": [
    "play_game(LastStone(10), query_player, alphabeta_player)"
   ]
  },
  {
   "cell_type": "markdown",
   "metadata": {
    "collapsed": true
   },
   "source": [
    "#### 1. Design an evaluation function for the last-stone game and test it"
   ]
  },
  {
   "cell_type": "code",
   "execution_count": 113,
   "metadata": {
    "collapsed": false
   },
   "outputs": [
    {
     "name": "stdout",
     "output_type": "stream",
     "text": [
      "Smart player loses\n"
     ]
    }
   ],
   "source": [
    "def eval_fn(state, player):\n",
    "    ### Your code here ###\n",
    "    return 0\n",
    "    \n",
    "def smart_player(game, state):\n",
    "    return alphabeta_search(state, game, d = 2, eval_fn = eval_fn)\n",
    "\n",
    "\n",
    "result = play_game(LastStone(10), smart_player, alphabeta_player)\n",
    "if result == 1:\n",
    "    print \"Smart player wins\"\n",
    "else:\n",
    "    print \"Smart player loses\""
   ]
  },
  {
   "cell_type": "markdown",
   "metadata": {},
   "source": [
    "### The 3-heaps last-stone game\n",
    "\n",
    "In this version of the game, there are three heaps instead of 1. In each turn, a player takes $n$ stones \n",
    "($1 \\le n \\le k$) from one of the heaps. The player that takes the last stone wins.\n",
    "\n",
    "#### 2. Define a class that models the 3-heaps last-stone game"
   ]
  },
  {
   "cell_type": "code",
   "execution_count": null,
   "metadata": {
    "collapsed": true
   },
   "outputs": [],
   "source": [
    "class LastStone3Heaps(Game):\n",
    "    def __init__(self, k, heap1, heap2, heap3):\n",
    "        pass\n",
    "\n",
    "    def legal_moves(self, state):\n",
    "        \"Return a list of the allowable moves at this point.\"\n",
    "        pass\n",
    "    \n",
    "    def make_move(self, move, state):\n",
    "        \"Return the state that results from making a move from a state.\"\n",
    "        pass\n",
    "    \n",
    "    def utility(self, state, player):\n",
    "        \"Return the value of this final state to player.\"\n",
    "        pass\n",
    "\n",
    "    def terminal_test(self, state):\n",
    "        \"Return True if this is a final state for the game.\"\n",
    "        pass\n",
    "    \n",
    "    def to_move(self, state):\n",
    "        \"Return the player whose move it is in this state.\"\n",
    "        pass\n",
    "    \n",
    "    def display(self, state):\n",
    "        \"Print or otherwise display the state.\"\n",
    "        pass\n",
    "    \n",
    "    def successors(self, state):\n",
    "        \"Return a list of legal (move, state) pairs.\"\n",
    "        pass\n",
    "    "
   ]
  },
  {
   "cell_type": "markdown",
   "metadata": {},
   "source": [
    "#### 3. Evaluate how many states are expanded with and without alpha-beta pruning"
   ]
  },
  {
   "cell_type": "markdown",
   "metadata": {},
   "source": [
    "#### 4. Design an evaluation function for the 3-heaps last-stone game and test it"
   ]
  }
 ],
 "metadata": {
  "kernelspec": {
   "display_name": "Python 2",
   "language": "python",
   "name": "python2"
  },
  "language_info": {
   "codemirror_mode": {
    "name": "ipython",
    "version": 2
   },
   "file_extension": ".py",
   "mimetype": "text/x-python",
   "name": "python",
   "nbconvert_exporter": "python",
   "pygments_lexer": "ipython2",
   "version": "2.7.11"
  }
 },
 "nbformat": 4,
 "nbformat_minor": 0
}
