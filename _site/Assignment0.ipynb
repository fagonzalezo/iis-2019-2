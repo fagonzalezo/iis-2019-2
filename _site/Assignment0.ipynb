{
 "cells": [
  {
   "cell_type": "markdown",
   "metadata": {},
   "source": [
    "# Assignment 0"
   ]
  },
  {
   "cell_type": "markdown",
   "metadata": {},
   "source": [
    "You have two jars, where you can put water, with capacities `cap_1` and `cap_2` respectively. Your goal is to fill the jars with a given amount of water. The actions that you can perform are the following:\n",
    "\n",
    "1. **Fill 1**: fill jar 1 to its maximum capacity with water.\n",
    "2. **Fill 1**: fill jar 2 to its maximum capacity with water.\n",
    "3. **Empty 1**: totally empty jar 1.\n",
    "4. **Empty 2**: totally empty jar 2.\n",
    "5. **1 -> 2**: pour the content of jar 1 into jar 2 until jar 1 is empty or jar 2 is full.\n",
    "6. **2 -> 1**: pour the content of jar 2 into jar 1 until jar 2 is empty or jar 1 is full.\n"
   ]
  },
  {
   "cell_type": "markdown",
   "metadata": {},
   "source": [
    "### 1.  Model the jars problem as a search problem"
   ]
  },
  {
   "cell_type": "code",
   "execution_count": null,
   "metadata": {
    "collapsed": false
   },
   "outputs": [],
   "source": [
    "class jars_problem(search.SearchProblem):\n",
    "    def __init__(self, cap_1, cap_2, goal):\n",
    "        '''\n",
    "        cap_1: jar 1 capacity\n",
    "        cap_2: jar 2 capacity\n",
    "        goal:  goal state\n",
    "        '''\n",
    "        self.cap_1 = cap_1\n",
    "        self.cap_2 = cap_2\n",
    "        self.start = (0, 0)\n",
    "        self.goal = goal\n",
    "        \n",
    "    def getStartState(self):\n",
    "        return self.start\n",
    "\n",
    "    def isGoalState(self, state):\n",
    "        return self.goal == state\n",
    "\n",
    "    def getSuccessors(self, state):\n",
    "        '''\n",
    "        Receives a state and calculates the list of successors. Each successor \n",
    "        correspond a triple of the form (state, action, cost). \n",
    "        For instance for state = (0, 0) the list of successors could be:\n",
    "        [((5, 0), \"Fill 1\", 5), ((0, 4), \"Fill 2\", 4)]\n",
    "        '''\n",
    "        # Your code here\n",
    "        return successors"
   ]
  },
  {
   "cell_type": "markdown",
   "metadata": {},
   "source": [
    "### 2. Given two jars of capacity 5 and 4 liters respectively measure 2 liters in jar 2."
   ]
  },
  {
   "cell_type": "code",
   "execution_count": null,
   "metadata": {
    "collapsed": true
   },
   "outputs": [],
   "source": [
    "problem = jars_problem(5, 4, (0,2))\n",
    "actions = dfs(problem)\n",
    "print actions"
   ]
  }
 ],
 "metadata": {
  "kernelspec": {
   "display_name": "Python 2",
   "language": "python",
   "name": "python2"
  },
  "language_info": {
   "codemirror_mode": {
    "name": "ipython",
    "version": 2
   },
   "file_extension": ".py",
   "mimetype": "text/x-python",
   "name": "python",
   "nbconvert_exporter": "python",
   "pygments_lexer": "ipython2",
   "version": "2.7.11"
  }
 },
 "nbformat": 4,
 "nbformat_minor": 0
}
